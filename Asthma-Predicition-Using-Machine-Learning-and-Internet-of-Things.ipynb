{
 "cells": [
  {
   "cell_type": "code",
   "execution_count": 1,
   "id": "d925e0eb",
   "metadata": {},
   "outputs": [],
   "source": [
    "import pandas as pd\n",
    "data = pd.read_csv('D:/datasets/Asthma-Predicition-Using-Machine-Learning-and-Internet-of-Things--main/Asthma-Predicition-Using-Machine-Learning-and-Internet-of-Things--main/PEFR_Data_Set.csv')"
   ]
  },
  {
   "cell_type": "code",
   "execution_count": 2,
   "id": "7e49d372",
   "metadata": {},
   "outputs": [
    {
     "data": {
      "text/plain": [
       "(54, 8)"
      ]
     },
     "execution_count": 2,
     "metadata": {},
     "output_type": "execute_result"
    }
   ],
   "source": [
    "data.shape"
   ]
  },
  {
   "cell_type": "code",
   "execution_count": 3,
   "id": "b55a8563",
   "metadata": {},
   "outputs": [
    {
     "data": {
      "text/html": [
       "<div>\n",
       "<style scoped>\n",
       "    .dataframe tbody tr th:only-of-type {\n",
       "        vertical-align: middle;\n",
       "    }\n",
       "\n",
       "    .dataframe tbody tr th {\n",
       "        vertical-align: top;\n",
       "    }\n",
       "\n",
       "    .dataframe thead th {\n",
       "        text-align: right;\n",
       "    }\n",
       "</style>\n",
       "<table border=\"1\" class=\"dataframe\">\n",
       "  <thead>\n",
       "    <tr style=\"text-align: right;\">\n",
       "      <th></th>\n",
       "      <th>Age</th>\n",
       "      <th>Height</th>\n",
       "      <th>Gender</th>\n",
       "      <th>Outdoor Temperature</th>\n",
       "      <th>Humidity</th>\n",
       "      <th>PM 2.5</th>\n",
       "      <th>PM 10</th>\n",
       "      <th>PEFR</th>\n",
       "    </tr>\n",
       "  </thead>\n",
       "  <tbody>\n",
       "    <tr>\n",
       "      <th>0</th>\n",
       "      <td>19</td>\n",
       "      <td>155</td>\n",
       "      <td>1</td>\n",
       "      <td>33</td>\n",
       "      <td>60</td>\n",
       "      <td>16</td>\n",
       "      <td>23.62</td>\n",
       "      <td>524</td>\n",
       "    </tr>\n",
       "    <tr>\n",
       "      <th>1</th>\n",
       "      <td>26</td>\n",
       "      <td>183</td>\n",
       "      <td>1</td>\n",
       "      <td>32</td>\n",
       "      <td>71</td>\n",
       "      <td>12</td>\n",
       "      <td>18.29</td>\n",
       "      <td>640</td>\n",
       "    </tr>\n",
       "    <tr>\n",
       "      <th>2</th>\n",
       "      <td>22</td>\n",
       "      <td>153</td>\n",
       "      <td>0</td>\n",
       "      <td>27</td>\n",
       "      <td>85</td>\n",
       "      <td>27</td>\n",
       "      <td>38.29</td>\n",
       "      <td>356</td>\n",
       "    </tr>\n",
       "    <tr>\n",
       "      <th>3</th>\n",
       "      <td>25</td>\n",
       "      <td>160</td>\n",
       "      <td>0</td>\n",
       "      <td>26</td>\n",
       "      <td>88</td>\n",
       "      <td>18</td>\n",
       "      <td>26.20</td>\n",
       "      <td>402</td>\n",
       "    </tr>\n",
       "    <tr>\n",
       "      <th>4</th>\n",
       "      <td>18</td>\n",
       "      <td>162</td>\n",
       "      <td>0</td>\n",
       "      <td>26</td>\n",
       "      <td>85</td>\n",
       "      <td>16</td>\n",
       "      <td>23.62</td>\n",
       "      <td>424</td>\n",
       "    </tr>\n",
       "  </tbody>\n",
       "</table>\n",
       "</div>"
      ],
      "text/plain": [
       "   Age  Height  Gender  Outdoor Temperature  Humidity  PM 2.5   PM 10  PEFR\n",
       "0   19     155       1                   33        60       16  23.62   524\n",
       "1   26     183       1                   32        71       12  18.29   640\n",
       "2   22     153       0                   27        85       27  38.29   356\n",
       "3   25     160       0                   26        88       18  26.20   402\n",
       "4   18     162       0                   26        85       16  23.62   424"
      ]
     },
     "execution_count": 3,
     "metadata": {},
     "output_type": "execute_result"
    }
   ],
   "source": [
    "data.head()"
   ]
  },
  {
   "cell_type": "code",
   "execution_count": 4,
   "id": "b5823df4",
   "metadata": {},
   "outputs": [
    {
     "name": "stdout",
     "output_type": "stream",
     "text": [
      "<class 'pandas.core.frame.DataFrame'>\n",
      "RangeIndex: 54 entries, 0 to 53\n",
      "Data columns (total 8 columns):\n",
      " #   Column               Non-Null Count  Dtype  \n",
      "---  ------               --------------  -----  \n",
      " 0   Age                  54 non-null     int64  \n",
      " 1   Height               54 non-null     int64  \n",
      " 2   Gender               54 non-null     int64  \n",
      " 3   Outdoor Temperature  54 non-null     int64  \n",
      " 4   Humidity             54 non-null     int64  \n",
      " 5   PM 2.5               54 non-null     int64  \n",
      " 6   PM 10                54 non-null     float64\n",
      " 7   PEFR                 54 non-null     int64  \n",
      "dtypes: float64(1), int64(7)\n",
      "memory usage: 3.5 KB\n"
     ]
    }
   ],
   "source": [
    "data.info()"
   ]
  },
  {
   "cell_type": "code",
   "execution_count": 5,
   "id": "d716ab1b",
   "metadata": {},
   "outputs": [
    {
     "data": {
      "text/html": [
       "<div>\n",
       "<style scoped>\n",
       "    .dataframe tbody tr th:only-of-type {\n",
       "        vertical-align: middle;\n",
       "    }\n",
       "\n",
       "    .dataframe tbody tr th {\n",
       "        vertical-align: top;\n",
       "    }\n",
       "\n",
       "    .dataframe thead th {\n",
       "        text-align: right;\n",
       "    }\n",
       "</style>\n",
       "<table border=\"1\" class=\"dataframe\">\n",
       "  <thead>\n",
       "    <tr style=\"text-align: right;\">\n",
       "      <th></th>\n",
       "      <th>Age</th>\n",
       "      <th>Height</th>\n",
       "      <th>Gender</th>\n",
       "      <th>Outdoor Temperature</th>\n",
       "      <th>Humidity</th>\n",
       "      <th>PM 2.5</th>\n",
       "      <th>PM 10</th>\n",
       "      <th>PEFR</th>\n",
       "    </tr>\n",
       "  </thead>\n",
       "  <tbody>\n",
       "    <tr>\n",
       "      <th>count</th>\n",
       "      <td>54.000000</td>\n",
       "      <td>54.000000</td>\n",
       "      <td>54.000000</td>\n",
       "      <td>54.000000</td>\n",
       "      <td>54.000000</td>\n",
       "      <td>54.000000</td>\n",
       "      <td>54.000000</td>\n",
       "      <td>54.000000</td>\n",
       "    </tr>\n",
       "    <tr>\n",
       "      <th>mean</th>\n",
       "      <td>26.944444</td>\n",
       "      <td>163.055556</td>\n",
       "      <td>0.537037</td>\n",
       "      <td>28.314815</td>\n",
       "      <td>75.759259</td>\n",
       "      <td>22.537037</td>\n",
       "      <td>33.669630</td>\n",
       "      <td>495.388889</td>\n",
       "    </tr>\n",
       "    <tr>\n",
       "      <th>std</th>\n",
       "      <td>8.598852</td>\n",
       "      <td>14.891325</td>\n",
       "      <td>0.503308</td>\n",
       "      <td>4.450245</td>\n",
       "      <td>12.184022</td>\n",
       "      <td>7.388704</td>\n",
       "      <td>9.020479</td>\n",
       "      <td>90.195891</td>\n",
       "    </tr>\n",
       "    <tr>\n",
       "      <th>min</th>\n",
       "      <td>15.000000</td>\n",
       "      <td>140.000000</td>\n",
       "      <td>0.000000</td>\n",
       "      <td>20.000000</td>\n",
       "      <td>52.000000</td>\n",
       "      <td>12.000000</td>\n",
       "      <td>18.000000</td>\n",
       "      <td>302.000000</td>\n",
       "    </tr>\n",
       "    <tr>\n",
       "      <th>25%</th>\n",
       "      <td>22.000000</td>\n",
       "      <td>150.500000</td>\n",
       "      <td>0.000000</td>\n",
       "      <td>25.000000</td>\n",
       "      <td>64.000000</td>\n",
       "      <td>16.500000</td>\n",
       "      <td>27.175000</td>\n",
       "      <td>435.000000</td>\n",
       "    </tr>\n",
       "    <tr>\n",
       "      <th>50%</th>\n",
       "      <td>25.000000</td>\n",
       "      <td>160.000000</td>\n",
       "      <td>1.000000</td>\n",
       "      <td>27.000000</td>\n",
       "      <td>78.500000</td>\n",
       "      <td>21.000000</td>\n",
       "      <td>32.500000</td>\n",
       "      <td>492.000000</td>\n",
       "    </tr>\n",
       "    <tr>\n",
       "      <th>75%</th>\n",
       "      <td>29.000000</td>\n",
       "      <td>176.000000</td>\n",
       "      <td>1.000000</td>\n",
       "      <td>32.000000</td>\n",
       "      <td>86.000000</td>\n",
       "      <td>26.000000</td>\n",
       "      <td>39.000000</td>\n",
       "      <td>578.000000</td>\n",
       "    </tr>\n",
       "    <tr>\n",
       "      <th>max</th>\n",
       "      <td>65.000000</td>\n",
       "      <td>195.000000</td>\n",
       "      <td>1.000000</td>\n",
       "      <td>36.000000</td>\n",
       "      <td>95.000000</td>\n",
       "      <td>38.000000</td>\n",
       "      <td>52.800000</td>\n",
       "      <td>651.000000</td>\n",
       "    </tr>\n",
       "  </tbody>\n",
       "</table>\n",
       "</div>"
      ],
      "text/plain": [
       "             Age      Height     Gender  Outdoor Temperature   Humidity  \\\n",
       "count  54.000000   54.000000  54.000000            54.000000  54.000000   \n",
       "mean   26.944444  163.055556   0.537037            28.314815  75.759259   \n",
       "std     8.598852   14.891325   0.503308             4.450245  12.184022   \n",
       "min    15.000000  140.000000   0.000000            20.000000  52.000000   \n",
       "25%    22.000000  150.500000   0.000000            25.000000  64.000000   \n",
       "50%    25.000000  160.000000   1.000000            27.000000  78.500000   \n",
       "75%    29.000000  176.000000   1.000000            32.000000  86.000000   \n",
       "max    65.000000  195.000000   1.000000            36.000000  95.000000   \n",
       "\n",
       "         PM 2.5       PM 10        PEFR  \n",
       "count  54.000000  54.000000   54.000000  \n",
       "mean   22.537037  33.669630  495.388889  \n",
       "std     7.388704   9.020479   90.195891  \n",
       "min    12.000000  18.000000  302.000000  \n",
       "25%    16.500000  27.175000  435.000000  \n",
       "50%    21.000000  32.500000  492.000000  \n",
       "75%    26.000000  39.000000  578.000000  \n",
       "max    38.000000  52.800000  651.000000  "
      ]
     },
     "execution_count": 5,
     "metadata": {},
     "output_type": "execute_result"
    }
   ],
   "source": [
    "data.describe()"
   ]
  },
  {
   "cell_type": "code",
   "execution_count": 6,
   "id": "bc72f34d",
   "metadata": {},
   "outputs": [
    {
     "data": {
      "text/plain": [
       "Age                    0\n",
       "Height                 0\n",
       "Gender                 0\n",
       "Outdoor Temperature    0\n",
       "Humidity               0\n",
       "PM 2.5                 0\n",
       "PM 10                  0\n",
       "PEFR                   0\n",
       "dtype: int64"
      ]
     },
     "execution_count": 6,
     "metadata": {},
     "output_type": "execute_result"
    }
   ],
   "source": [
    "data.isnull().sum()"
   ]
  },
  {
   "cell_type": "code",
   "execution_count": 7,
   "id": "6d1c4262",
   "metadata": {},
   "outputs": [],
   "source": [
    "data['Gender_abc'] = data['Gender'].map({0:'Female', 1:'Male'})"
   ]
  },
  {
   "cell_type": "code",
   "execution_count": 8,
   "id": "4cce7eb3",
   "metadata": {},
   "outputs": [
    {
     "data": {
      "text/plain": [
       "Male      29\n",
       "Female    25\n",
       "Name: Gender_abc, dtype: int64"
      ]
     },
     "execution_count": 8,
     "metadata": {},
     "output_type": "execute_result"
    }
   ],
   "source": [
    "data['Gender_abc'].value_counts()"
   ]
  },
  {
   "cell_type": "code",
   "execution_count": 9,
   "id": "05e7b709",
   "metadata": {},
   "outputs": [
    {
     "data": {
      "image/png": "[encoded data removed]",
      "text/plain": [
       "<Figure size 360x360 with 1 Axes>"
      ]
     },
     "metadata": {},
     "output_type": "display_data"
    }
   ],
   "source": [
    "import matplotlib.pyplot as plt\n",
    "\n",
    "x = data['Gender_abc'].value_counts().sort_values()\n",
    "\n",
    "plt.figure(figsize=(5, 5))\n",
    "ax = plt.pie(x = x, labels=x.index, autopct = '%1.1f%%', explode = [0.03, 0.03])\n",
    "plt.title('Proportion of Gender')\n",
    "\n",
    "plt.show()"
   ]
  },
  {
   "cell_type": "code",
   "execution_count": 10,
   "id": "ae91fb29",
   "metadata": {},
   "outputs": [],
   "source": [
    "X=data[['Gender','Outdoor Temperature','Humidity', 'PM 2.5 ', 'PM 10']]\n",
    "y=data['PEFR']"
   ]
  },
  {
   "cell_type": "code",
   "execution_count": 11,
   "id": "75bdf3a7",
   "metadata": {},
   "outputs": [],
   "source": [
    "from sklearn.tree import DecisionTreeClassifier\n",
    "\n",
    "dt_model = DecisionTreeClassifier()\n",
    "dt_model.fit(X,y)\n",
    "predicted = dt_model.predict(X)"
   ]
  },
  {
   "cell_type": "code",
   "execution_count": 13,
   "id": "385b4cfe",
   "metadata": {},
   "outputs": [
    {
     "name": "stdout",
     "output_type": "stream",
     "text": [
      "Enter Gender 1-Male 0-Female0\n",
      "Enter Temperature C:30\n",
      "Enter Humidity %:34\n",
      "Enter PM 2.5 Value:42\n",
      "Enter PM 10 Value:21\n"
     ]
    },
    {
     "name": "stderr",
     "output_type": "stream",
     "text": [
      "D:\\Anaconda\\lib\\site-packages\\sklearn\\base.py:450: UserWarning: X does not have valid feature names, but DecisionTreeClassifier was fitted with feature names\n",
      "  warnings.warn(\n"
     ]
    },
    {
     "name": "stdout",
     "output_type": "stream",
     "text": [
      "Enter Actual PEFR value352\n",
      "399\n",
      "88.22055137844612\n",
      "SAFE\n"
     ]
    }
   ],
   "source": [
    "g=int(input(\"Enter Gender 1-Male 0-Female\"))\n",
    "p=float(input('Enter Temperature C:'))\n",
    "q=float(input('Enter Humidity %:'))\n",
    "r=float(input('Enter PM 2.5 Value:'))\n",
    "s=float(input('Enter PM 10 Value:'))\n",
    "prediction = dt_model.predict([[g,p,q,r,s]])\n",
    "predicted_pefr = prediction[0]\n",
    "actual_pefr = float(input(\"Enter Actual PEFR value\"))\n",
    "print(predicted_pefr)\n",
    "perpefr = (actual_pefr/predicted_pefr)*100\n",
    "print(perpefr)\n",
    "if perpefr >= 80:\n",
    "    print('SAFE')\n",
    "elif perpefr >= 50:\n",
    "    print('MODERATE')\n",
    "else:\n",
    "    print('RISK')"
   ]
  }
 ],
 "metadata": {
  "kernelspec": {
   "display_name": "Python 3",
   "language": "python",
   "name": "python3"
  },
  "language_info": {
   "codemirror_mode": {
    "name": "ipython",
    "version": 3
   },
   "file_extension": ".py",
   "mimetype": "text/x-python",
   "name": "python",
   "nbconvert_exporter": "python",
   "pygments_lexer": "ipython3",
   "version": "3.8.8"
  }
 },
 "nbformat": 4,
 "nbformat_minor": 5
}
